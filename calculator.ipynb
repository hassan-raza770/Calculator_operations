{
 "cells": [
  {
   "cell_type": "code",
   "execution_count": 4,
   "id": "bed91e7e",
   "metadata": {},
   "outputs": [
    {
     "name": "stdout",
     "output_type": "stream",
     "text": [
      "Enter number one8\n",
      "Enter number two4\n",
      "Enter the operation+\n",
      "12\n"
     ]
    }
   ],
   "source": [
    "ans = int(input('Enter number one'))\n",
    "two = int(input('Enter number two'))\n",
    "ope = (input('Enter the operation'))\n",
    "if ope=='+':\n",
    "  print(ans+two)\n",
    "if ope=='-':\n",
    "  print(ans-two)\n",
    "if ope=='*':\n",
    "  print(ans*two)\n",
    "if ope=='/':\n",
    "  print(ans/two)"
   ]
  }
 ],
 "metadata": {
  "kernelspec": {
   "display_name": "Python 3 (ipykernel)",
   "language": "python",
   "name": "python3"
  },
  "language_info": {
   "codemirror_mode": {
    "name": "ipython",
    "version": 3
   },
   "file_extension": ".py",
   "mimetype": "text/x-python",
   "name": "python",
   "nbconvert_exporter": "python",
   "pygments_lexer": "ipython3",
   "version": "3.8.9"
  }
 },
 "nbformat": 4,
 "nbformat_minor": 5
}
